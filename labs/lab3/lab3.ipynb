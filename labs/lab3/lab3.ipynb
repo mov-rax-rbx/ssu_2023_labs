{
 "cells": [
  {
   "cell_type": "code",
   "execution_count": 1,
   "id": "b0932c29",
   "metadata": {},
   "outputs": [],
   "source": [
    "from zipfile import ZipFile"
   ]
  },
  {
   "cell_type": "code",
   "execution_count": 4,
   "id": "51236168",
   "metadata": {},
   "outputs": [],
   "source": [
    "zip_datasets = [\n",
    "    \"../../results/task/datasets/oil-prices.zip\",\n",
    "    \"../../results/task/datasets/population.zip\",\n",
    "    \"../../results/task/datasets/ppp.zip\"\n",
    "]\n",
    "\n",
    "dst_dir = \"unzipdatasets\"\n",
    "\n",
    "for zip_dataset in zip_datasets:\n",
    "    with ZipFile(zip_dataset, 'r') as zip_ref:\n",
    "        zip_ref.extractall(dst_dir)\n"
   ]
  }
 ],
 "metadata": {
  "kernelspec": {
   "display_name": "Python 3 (ipykernel)",
   "language": "python",
   "name": "python3"
  },
  "language_info": {
   "codemirror_mode": {
    "name": "ipython",
    "version": 3
   },
   "file_extension": ".py",
   "mimetype": "text/x-python",
   "name": "python",
   "nbconvert_exporter": "python",
   "pygments_lexer": "ipython3",
   "version": "3.11.4"
  }
 },
 "nbformat": 4,
 "nbformat_minor": 5
}
